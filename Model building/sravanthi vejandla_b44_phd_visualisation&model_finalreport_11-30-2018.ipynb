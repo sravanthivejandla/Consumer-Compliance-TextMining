{
 "cells": [
  {
   "cell_type": "markdown",
   "metadata": {},
   "source": [
    "###                               Business Case :\n",
    "    \n",
    "    we have given a problem on the consumer grievances against Banks  \n",
    "    \n",
    "-Objective:\n",
    "    create an analytical and modelling framework to predict the rating of the compliance management function of Banks as \n",
    "    outstanding/satisfactory/deficient based on the given data using the above criteria.\n",
    "    \n",
    "Depending on the analysis Banks can come to know which factors are influencing && improve the customer satisfaction"
   ]
  },
  {
   "cell_type": "markdown",
   "metadata": {},
   "source": [
    "###       load required libraries"
   ]
  },
  {
   "cell_type": "code",
   "execution_count": 1,
   "metadata": {},
   "outputs": [],
   "source": [
    "import pandas as pd\n",
    "import numpy as np\n",
    "import string\n",
    "import re\n",
    "import os\n",
    "import nltk\n",
    "from nltk.corpus import stopwords"
   ]
  },
  {
   "cell_type": "code",
   "execution_count": 2,
   "metadata": {},
   "outputs": [],
   "source": [
    "import matplotlib.pyplot as plt\n",
    "import seaborn as sns\n",
    "import plotly\n",
    "import plotly.offline as pyoff\n",
    "import plotly.figure_factory as ff\n",
    "from plotly.offline import init_notebook_mode, iplot, plot\n",
    "import plotly.graph_objs as go\n",
    "import squarify # for tree maps\n",
    "%matplotlib inline"
   ]
  },
  {
   "cell_type": "code",
   "execution_count": 4,
   "metadata": {},
   "outputs": [
    {
     "data": {
      "text/html": [
       "<script>requirejs.config({paths: { 'plotly': ['https://cdn.plot.ly/plotly-latest.min']},});if(!window.Plotly) {{require(['plotly'],function(plotly) {window.Plotly=plotly;});}}</script>"
      ],
      "text/vnd.plotly.v1+html": [
       "<script>requirejs.config({paths: { 'plotly': ['https://cdn.plot.ly/plotly-latest.min']},});if(!window.Plotly) {{require(['plotly'],function(plotly) {window.Plotly=plotly;});}}</script>"
      ]
     },
     "metadata": {},
     "output_type": "display_data"
    }
   ],
   "source": [
    "init_notebook_mode(connected=True)"
   ]
  },
  {
   "cell_type": "markdown",
   "metadata": {},
   "source": [
    "###     load data"
   ]
  },
  {
   "cell_type": "code",
   "execution_count": 3,
   "metadata": {},
   "outputs": [],
   "source": [
    "data = pd.read_csv(\"GrievancesData_Train.csv\")\n",
    "data1= pd.read_csv(\"Train.csv\")"
   ]
  },
  {
   "cell_type": "markdown",
   "metadata": {},
   "source": [
    "#### Data Exploration"
   ]
  },
  {
   "cell_type": "code",
   "execution_count": 9,
   "metadata": {},
   "outputs": [
    {
     "data": {
      "text/plain": [
       "Index(['GrievanceID', 'BankID', 'State', 'DateOfGrievance',\n",
       "       'Grievance_Category', 'GrievanceDescription', 'LineOfBusiness',\n",
       "       'ResolutionComments', 'Disputed', 'DateOfResolution'],\n",
       "      dtype='object')"
      ]
     },
     "execution_count": 9,
     "metadata": {},
     "output_type": "execute_result"
    }
   ],
   "source": [
    "# check names of columns in data\n",
    "data.columns"
   ]
  },
  {
   "cell_type": "code",
   "execution_count": 20,
   "metadata": {},
   "outputs": [
    {
     "data": {
      "text/plain": [
       "(53680, 10)"
      ]
     },
     "execution_count": 20,
     "metadata": {},
     "output_type": "execute_result"
    }
   ],
   "source": [
    "data.shape"
   ]
  },
  {
   "cell_type": "code",
   "execution_count": 10,
   "metadata": {},
   "outputs": [
    {
     "data": {
      "text/plain": [
       "Index(['BankID', 'BankGrade'], dtype='object')"
      ]
     },
     "execution_count": 10,
     "metadata": {},
     "output_type": "execute_result"
    }
   ],
   "source": [
    "# check names of columns in data\n",
    "data1.columns"
   ]
  },
  {
   "cell_type": "code",
   "execution_count": 21,
   "metadata": {},
   "outputs": [
    {
     "data": {
      "text/plain": [
       "(86, 2)"
      ]
     },
     "execution_count": 21,
     "metadata": {},
     "output_type": "execute_result"
    }
   ],
   "source": [
    "data1.shape"
   ]
  },
  {
   "cell_type": "code",
   "execution_count": 12,
   "metadata": {},
   "outputs": [
    {
     "data": {
      "text/html": [
       "<div>\n",
       "<style scoped>\n",
       "    .dataframe tbody tr th:only-of-type {\n",
       "        vertical-align: middle;\n",
       "    }\n",
       "\n",
       "    .dataframe tbody tr th {\n",
       "        vertical-align: top;\n",
       "    }\n",
       "\n",
       "    .dataframe thead th {\n",
       "        text-align: right;\n",
       "    }\n",
       "</style>\n",
       "<table border=\"1\" class=\"dataframe\">\n",
       "  <thead>\n",
       "    <tr style=\"text-align: right;\">\n",
       "      <th></th>\n",
       "      <th>GrievanceID</th>\n",
       "      <th>BankID</th>\n",
       "      <th>State</th>\n",
       "      <th>DateOfGrievance</th>\n",
       "      <th>Grievance_Category</th>\n",
       "      <th>GrievanceDescription</th>\n",
       "      <th>LineOfBusiness</th>\n",
       "      <th>ResolutionComments</th>\n",
       "      <th>Disputed</th>\n",
       "      <th>DateOfResolution</th>\n",
       "    </tr>\n",
       "  </thead>\n",
       "  <tbody>\n",
       "    <tr>\n",
       "      <th>0</th>\n",
       "      <td>GID512411</td>\n",
       "      <td>Bank5279</td>\n",
       "      <td>State31</td>\n",
       "      <td>2016-01-19</td>\n",
       "      <td>Settlement process and costs</td>\n",
       "      <td>Bank5279 Research dpt. \\nXXXX XXXX XXXX XXXX,...</td>\n",
       "      <td>Mortgage</td>\n",
       "      <td>Closed with explanation</td>\n",
       "      <td>No</td>\n",
       "      <td>2016-01-30</td>\n",
       "    </tr>\n",
       "    <tr>\n",
       "      <th>1</th>\n",
       "      <td>GID512412</td>\n",
       "      <td>Bank5287</td>\n",
       "      <td>State26</td>\n",
       "      <td>2016-01-19</td>\n",
       "      <td>Application, originator, mortgage broker</td>\n",
       "      <td>I had a mortgage with from XXXX of XXXX to XX...</td>\n",
       "      <td>Mortgage</td>\n",
       "      <td>Closed with explanation</td>\n",
       "      <td>Yes</td>\n",
       "      <td>2016-02-10</td>\n",
       "    </tr>\n",
       "  </tbody>\n",
       "</table>\n",
       "</div>"
      ],
      "text/plain": [
       "  GrievanceID    BankID    State DateOfGrievance  \\\n",
       "0   GID512411  Bank5279  State31      2016-01-19   \n",
       "1   GID512412  Bank5287  State26      2016-01-19   \n",
       "\n",
       "                         Grievance_Category  \\\n",
       "0              Settlement process and costs   \n",
       "1  Application, originator, mortgage broker   \n",
       "\n",
       "                                GrievanceDescription LineOfBusiness  \\\n",
       "0   Bank5279 Research dpt. \\nXXXX XXXX XXXX XXXX,...       Mortgage   \n",
       "1   I had a mortgage with from XXXX of XXXX to XX...       Mortgage   \n",
       "\n",
       "        ResolutionComments Disputed DateOfResolution  \n",
       "0  Closed with explanation       No       2016-01-30  \n",
       "1  Closed with explanation      Yes       2016-02-10  "
      ]
     },
     "execution_count": 12,
     "metadata": {},
     "output_type": "execute_result"
    }
   ],
   "source": [
    "data.head(2)"
   ]
  },
  {
   "cell_type": "code",
   "execution_count": 13,
   "metadata": {},
   "outputs": [
    {
     "data": {
      "text/html": [
       "<div>\n",
       "<style scoped>\n",
       "    .dataframe tbody tr th:only-of-type {\n",
       "        vertical-align: middle;\n",
       "    }\n",
       "\n",
       "    .dataframe tbody tr th {\n",
       "        vertical-align: top;\n",
       "    }\n",
       "\n",
       "    .dataframe thead th {\n",
       "        text-align: right;\n",
       "    }\n",
       "</style>\n",
       "<table border=\"1\" class=\"dataframe\">\n",
       "  <thead>\n",
       "    <tr style=\"text-align: right;\">\n",
       "      <th></th>\n",
       "      <th>BankID</th>\n",
       "      <th>BankGrade</th>\n",
       "    </tr>\n",
       "  </thead>\n",
       "  <tbody>\n",
       "    <tr>\n",
       "      <th>0</th>\n",
       "      <td>Bank5298</td>\n",
       "      <td>satisfactory</td>\n",
       "    </tr>\n",
       "    <tr>\n",
       "      <th>1</th>\n",
       "      <td>Bank5421</td>\n",
       "      <td>deficient</td>\n",
       "    </tr>\n",
       "  </tbody>\n",
       "</table>\n",
       "</div>"
      ],
      "text/plain": [
       "     BankID     BankGrade\n",
       "0  Bank5298  satisfactory\n",
       "1  Bank5421     deficient"
      ]
     },
     "execution_count": 13,
     "metadata": {},
     "output_type": "execute_result"
    }
   ],
   "source": [
    "data1.head(2)"
   ]
  },
  {
   "cell_type": "code",
   "execution_count": 5,
   "metadata": {},
   "outputs": [],
   "source": [
    "train=pd.merge(data,data1,on='BankID')  ### mearging two data frames to train the model "
   ]
  },
  {
   "cell_type": "code",
   "execution_count": 49,
   "metadata": {},
   "outputs": [
    {
     "data": {
      "text/html": [
       "<div>\n",
       "<style scoped>\n",
       "    .dataframe tbody tr th:only-of-type {\n",
       "        vertical-align: middle;\n",
       "    }\n",
       "\n",
       "    .dataframe tbody tr th {\n",
       "        vertical-align: top;\n",
       "    }\n",
       "\n",
       "    .dataframe thead th {\n",
       "        text-align: right;\n",
       "    }\n",
       "</style>\n",
       "<table border=\"1\" class=\"dataframe\">\n",
       "  <thead>\n",
       "    <tr style=\"text-align: right;\">\n",
       "      <th></th>\n",
       "      <th>GrievanceID</th>\n",
       "      <th>BankID</th>\n",
       "      <th>State</th>\n",
       "      <th>DateOfGrievance</th>\n",
       "      <th>Grievance_Category</th>\n",
       "      <th>GrievanceDescription</th>\n",
       "      <th>LineOfBusiness</th>\n",
       "      <th>ResolutionComments</th>\n",
       "      <th>Disputed</th>\n",
       "      <th>DateOfResolution</th>\n",
       "      <th>BankGrade</th>\n",
       "    </tr>\n",
       "  </thead>\n",
       "  <tbody>\n",
       "    <tr>\n",
       "      <th>0</th>\n",
       "      <td>GID512411</td>\n",
       "      <td>Bank5279</td>\n",
       "      <td>State31</td>\n",
       "      <td>2016-01-19</td>\n",
       "      <td>Settlement process and costs</td>\n",
       "      <td>Bank5279 Research dpt. \\nXXXX XXXX XXXX XXXX,...</td>\n",
       "      <td>Mortgage</td>\n",
       "      <td>Closed with explanation</td>\n",
       "      <td>No</td>\n",
       "      <td>2016-01-30</td>\n",
       "      <td>outstanding</td>\n",
       "    </tr>\n",
       "    <tr>\n",
       "      <th>1</th>\n",
       "      <td>GID512415</td>\n",
       "      <td>Bank5279</td>\n",
       "      <td>State53</td>\n",
       "      <td>2016-01-19</td>\n",
       "      <td>Loan servicing, payments, escrow account</td>\n",
       "      <td>Our Mortgage was sold to Bank5279 in XXXX of ...</td>\n",
       "      <td>Mortgage</td>\n",
       "      <td>Closed with explanation</td>\n",
       "      <td>No</td>\n",
       "      <td>2016-01-30</td>\n",
       "      <td>outstanding</td>\n",
       "    </tr>\n",
       "  </tbody>\n",
       "</table>\n",
       "</div>"
      ],
      "text/plain": [
       "  GrievanceID    BankID    State DateOfGrievance  \\\n",
       "0   GID512411  Bank5279  State31      2016-01-19   \n",
       "1   GID512415  Bank5279  State53      2016-01-19   \n",
       "\n",
       "                         Grievance_Category  \\\n",
       "0              Settlement process and costs   \n",
       "1  Loan servicing, payments, escrow account   \n",
       "\n",
       "                                GrievanceDescription LineOfBusiness  \\\n",
       "0   Bank5279 Research dpt. \\nXXXX XXXX XXXX XXXX,...       Mortgage   \n",
       "1   Our Mortgage was sold to Bank5279 in XXXX of ...       Mortgage   \n",
       "\n",
       "        ResolutionComments Disputed DateOfResolution    BankGrade  \n",
       "0  Closed with explanation       No       2016-01-30  outstanding  \n",
       "1  Closed with explanation       No       2016-01-30  outstanding  "
      ]
     },
     "execution_count": 49,
     "metadata": {},
     "output_type": "execute_result"
    }
   ],
   "source": [
    "train.head(2)"
   ]
  },
  {
   "cell_type": "code",
   "execution_count": 34,
   "metadata": {},
   "outputs": [
    {
     "data": {
      "text/plain": [
       "(53680, 11)"
      ]
     },
     "execution_count": 34,
     "metadata": {},
     "output_type": "execute_result"
    }
   ],
   "source": [
    "train.shape"
   ]
  },
  {
   "cell_type": "code",
   "execution_count": 141,
   "metadata": {},
   "outputs": [
    {
     "name": "stdout",
     "output_type": "stream",
     "text": [
      "<class 'pandas.core.frame.DataFrame'>\n",
      "Int64Index: 53680 entries, 0 to 53679\n",
      "Data columns (total 11 columns):\n",
      "GrievanceID             53680 non-null object\n",
      "BankID                  53680 non-null object\n",
      "State                   53559 non-null object\n",
      "DateOfGrievance         53680 non-null object\n",
      "Grievance_Category      53680 non-null object\n",
      "GrievanceDescription    53680 non-null object\n",
      "LineOfBusiness          53680 non-null object\n",
      "ResolutionComments      53680 non-null object\n",
      "Disputed                53680 non-null object\n",
      "DateOfResolution        53680 non-null object\n",
      "BankGrade               53680 non-null object\n",
      "dtypes: object(11)\n",
      "memory usage: 4.9+ MB\n"
     ]
    }
   ],
   "source": [
    "# check data types, non-null count in each field\n",
    "train.info()"
   ]
  },
  {
   "cell_type": "code",
   "execution_count": null,
   "metadata": {},
   "outputs": [],
   "source": [
    "#### cheching null values"
   ]
  },
  {
   "cell_type": "code",
   "execution_count": 188,
   "metadata": {},
   "outputs": [
    {
     "data": {
      "text/plain": [
       "GrievanceID               0\n",
       "BankID                    0\n",
       "State                   121\n",
       "DateOfGrievance           0\n",
       "Grievance_Category        0\n",
       "GrievanceDescription      0\n",
       "LineOfBusiness            0\n",
       "ResolutionComments        0\n",
       "Disputed                  0\n",
       "DateOfResolution          0\n",
       "BankGrade                 0\n",
       "days                      0\n",
       "dtype: int64"
      ]
     },
     "execution_count": 188,
     "metadata": {},
     "output_type": "execute_result"
    }
   ],
   "source": [
    "train.isnull().sum()"
   ]
  },
  {
   "cell_type": "code",
   "execution_count": 39,
   "metadata": {},
   "outputs": [
    {
     "data": {
      "text/html": [
       "<div>\n",
       "<style scoped>\n",
       "    .dataframe tbody tr th:only-of-type {\n",
       "        vertical-align: middle;\n",
       "    }\n",
       "\n",
       "    .dataframe tbody tr th {\n",
       "        vertical-align: top;\n",
       "    }\n",
       "\n",
       "    .dataframe thead th {\n",
       "        text-align: right;\n",
       "    }\n",
       "</style>\n",
       "<table border=\"1\" class=\"dataframe\">\n",
       "  <thead>\n",
       "    <tr style=\"text-align: right;\">\n",
       "      <th></th>\n",
       "      <th>GrievanceDescription</th>\n",
       "      <th>word_count</th>\n",
       "    </tr>\n",
       "  </thead>\n",
       "  <tbody>\n",
       "    <tr>\n",
       "      <th>0</th>\n",
       "      <td>Bank5279 Research dpt. \\nXXXX XXXX XXXX XXXX,...</td>\n",
       "      <td>169</td>\n",
       "    </tr>\n",
       "    <tr>\n",
       "      <th>1</th>\n",
       "      <td>Our Mortgage was sold to Bank5279 in XXXX of ...</td>\n",
       "      <td>284</td>\n",
       "    </tr>\n",
       "    <tr>\n",
       "      <th>2</th>\n",
       "      <td>I was offered a trial modification by my serv...</td>\n",
       "      <td>210</td>\n",
       "    </tr>\n",
       "    <tr>\n",
       "      <th>3</th>\n",
       "      <td>Our Mortgage was sold to Bank5279 in XXXX of ...</td>\n",
       "      <td>284</td>\n",
       "    </tr>\n",
       "    <tr>\n",
       "      <th>4</th>\n",
       "      <td>My previous Mortgage Servicer sold my loan to...</td>\n",
       "      <td>366</td>\n",
       "    </tr>\n",
       "  </tbody>\n",
       "</table>\n",
       "</div>"
      ],
      "text/plain": [
       "                                GrievanceDescription  word_count\n",
       "0   Bank5279 Research dpt. \\nXXXX XXXX XXXX XXXX,...         169\n",
       "1   Our Mortgage was sold to Bank5279 in XXXX of ...         284\n",
       "2   I was offered a trial modification by my serv...         210\n",
       "3   Our Mortgage was sold to Bank5279 in XXXX of ...         284\n",
       "4   My previous Mortgage Servicer sold my loan to...         366"
      ]
     },
     "execution_count": 39,
     "metadata": {},
     "output_type": "execute_result"
    }
   ],
   "source": [
    "##### word count in Grievance description\n",
    "train['word_count'] = train['GrievanceDescription'].apply(lambda x: len(str(x).split(\" \")))\n",
    "train[['GrievanceDescription','word_count']].head()"
   ]
  },
  {
   "cell_type": "code",
   "execution_count": 158,
   "metadata": {},
   "outputs": [
    {
     "data": {
      "text/html": [
       "<div>\n",
       "<style scoped>\n",
       "    .dataframe tbody tr th:only-of-type {\n",
       "        vertical-align: middle;\n",
       "    }\n",
       "\n",
       "    .dataframe tbody tr th {\n",
       "        vertical-align: top;\n",
       "    }\n",
       "\n",
       "    .dataframe thead th {\n",
       "        text-align: right;\n",
       "    }\n",
       "</style>\n",
       "<table border=\"1\" class=\"dataframe\">\n",
       "  <thead>\n",
       "    <tr style=\"text-align: right;\">\n",
       "      <th></th>\n",
       "      <th>GrievanceDescription</th>\n",
       "      <th>stopword</th>\n",
       "    </tr>\n",
       "  </thead>\n",
       "  <tbody>\n",
       "    <tr>\n",
       "      <th>0</th>\n",
       "      <td>Bank5279 Research dpt. \\nXXXX XXXX XXXX XXXX,...</td>\n",
       "      <td>68</td>\n",
       "    </tr>\n",
       "    <tr>\n",
       "      <th>1</th>\n",
       "      <td>Our Mortgage was sold to Bank5279 in XXXX of ...</td>\n",
       "      <td>111</td>\n",
       "    </tr>\n",
       "    <tr>\n",
       "      <th>2</th>\n",
       "      <td>I was offered a trial modification by my serv...</td>\n",
       "      <td>71</td>\n",
       "    </tr>\n",
       "    <tr>\n",
       "      <th>3</th>\n",
       "      <td>Our Mortgage was sold to Bank5279 in XXXX of ...</td>\n",
       "      <td>111</td>\n",
       "    </tr>\n",
       "    <tr>\n",
       "      <th>4</th>\n",
       "      <td>My previous Mortgage Servicer sold my loan to...</td>\n",
       "      <td>170</td>\n",
       "    </tr>\n",
       "  </tbody>\n",
       "</table>\n",
       "</div>"
      ],
      "text/plain": [
       "                                GrievanceDescription  stopword\n",
       "0   Bank5279 Research dpt. \\nXXXX XXXX XXXX XXXX,...        68\n",
       "1   Our Mortgage was sold to Bank5279 in XXXX of ...       111\n",
       "2   I was offered a trial modification by my serv...        71\n",
       "3   Our Mortgage was sold to Bank5279 in XXXX of ...       111\n",
       "4   My previous Mortgage Servicer sold my loan to...       170"
      ]
     },
     "execution_count": 158,
     "metadata": {},
     "output_type": "execute_result"
    }
   ],
   "source": [
    "###### stopwrds in Grievance Description\n",
    "from nltk.corpus import stopwords\n",
    "stop = stopwords.words('english')\n",
    "train['stopword'] = train['GrievanceDescription'].apply(lambda x: len([x for x in x.split() if x in stop]))\n",
    "train[['GrievanceDescription','stopword']].head()"
   ]
  },
  {
   "cell_type": "code",
   "execution_count": 160,
   "metadata": {},
   "outputs": [
    {
     "data": {
      "text/html": [
       "<div>\n",
       "<style scoped>\n",
       "    .dataframe tbody tr th:only-of-type {\n",
       "        vertical-align: middle;\n",
       "    }\n",
       "\n",
       "    .dataframe tbody tr th {\n",
       "        vertical-align: top;\n",
       "    }\n",
       "\n",
       "    .dataframe thead th {\n",
       "        text-align: right;\n",
       "    }\n",
       "</style>\n",
       "<table border=\"1\" class=\"dataframe\">\n",
       "  <thead>\n",
       "    <tr style=\"text-align: right;\">\n",
       "      <th></th>\n",
       "      <th>GrievanceID</th>\n",
       "      <th>BankID</th>\n",
       "      <th>State</th>\n",
       "      <th>DateOfGrievance</th>\n",
       "      <th>Grievance_Category</th>\n",
       "      <th>GrievanceDescription</th>\n",
       "      <th>LineOfBusiness</th>\n",
       "      <th>ResolutionComments</th>\n",
       "      <th>Disputed</th>\n",
       "      <th>DateOfResolution</th>\n",
       "      <th>BankGrade</th>\n",
       "    </tr>\n",
       "  </thead>\n",
       "  <tbody>\n",
       "    <tr>\n",
       "      <th>0</th>\n",
       "      <td>GID512411</td>\n",
       "      <td>Bank5279</td>\n",
       "      <td>State31</td>\n",
       "      <td>2016-01-19</td>\n",
       "      <td>Settlement process and costs</td>\n",
       "      <td>Bank5279 Research dpt. \\nXXXX XXXX XXXX XXXX,...</td>\n",
       "      <td>Mortgage</td>\n",
       "      <td>Closed with explanation</td>\n",
       "      <td>No</td>\n",
       "      <td>2016-01-30</td>\n",
       "      <td>outstanding</td>\n",
       "    </tr>\n",
       "    <tr>\n",
       "      <th>1</th>\n",
       "      <td>GID512415</td>\n",
       "      <td>Bank5279</td>\n",
       "      <td>State53</td>\n",
       "      <td>2016-01-19</td>\n",
       "      <td>Loan servicing, payments, escrow account</td>\n",
       "      <td>Our Mortgage was sold to Bank5279 in XXXX of ...</td>\n",
       "      <td>Mortgage</td>\n",
       "      <td>Closed with explanation</td>\n",
       "      <td>No</td>\n",
       "      <td>2016-01-30</td>\n",
       "      <td>outstanding</td>\n",
       "    </tr>\n",
       "  </tbody>\n",
       "</table>\n",
       "</div>"
      ],
      "text/plain": [
       "  GrievanceID    BankID    State DateOfGrievance  \\\n",
       "0   GID512411  Bank5279  State31      2016-01-19   \n",
       "1   GID512415  Bank5279  State53      2016-01-19   \n",
       "\n",
       "                         Grievance_Category  \\\n",
       "0              Settlement process and costs   \n",
       "1  Loan servicing, payments, escrow account   \n",
       "\n",
       "                                GrievanceDescription LineOfBusiness  \\\n",
       "0   Bank5279 Research dpt. \\nXXXX XXXX XXXX XXXX,...       Mortgage   \n",
       "1   Our Mortgage was sold to Bank5279 in XXXX of ...       Mortgage   \n",
       "\n",
       "        ResolutionComments Disputed DateOfResolution    BankGrade  \n",
       "0  Closed with explanation       No       2016-01-30  outstanding  \n",
       "1  Closed with explanation       No       2016-01-30  outstanding  "
      ]
     },
     "execution_count": 160,
     "metadata": {},
     "output_type": "execute_result"
    }
   ],
   "source": [
    "train.head(2)"
   ]
  },
  {
   "cell_type": "markdown",
   "metadata": {},
   "source": [
    "###     EDA && visualizations"
   ]
  },
  {
   "cell_type": "code",
   "execution_count": 50,
   "metadata": {},
   "outputs": [
    {
     "data": {
      "text/plain": [
       "satisfactory    34881\n",
       "deficient       14304\n",
       "outstanding      4495\n",
       "Name: BankGrade, dtype: int64"
      ]
     },
     "execution_count": 50,
     "metadata": {},
     "output_type": "execute_result"
    }
   ],
   "source": [
    "train.BankGrade.value_counts()"
   ]
  },
  {
   "cell_type": "code",
   "execution_count": 51,
   "metadata": {},
   "outputs": [
    {
     "data": {
      "image/png": "[encoded data removed]",
      "text/plain": [
       "<Figure size 432x216 with 1 Axes>"
      ]
     },
     "metadata": {},
     "output_type": "display_data"
    }
   ],
   "source": [
    "plt.figure()\n",
    "train.BankGrade.value_counts().plot(kind='bar',\n",
    "                                  figsize=(6,3),\n",
    "                                  color=\"blue\",\n",
    "                                  alpha = 0.7,\n",
    "                                  fontsize=13)\n",
    "plt.title('BankGrade-levels (in numbers)')\n",
    "plt.grid()\n",
    "plt.show()"
   ]
  },
  {
   "cell_type": "code",
   "execution_count": null,
   "metadata": {},
   "outputs": [],
   "source": [
    "###  bank grade levels in percentage "
   ]
  },
  {
   "cell_type": "code",
   "execution_count": 54,
   "metadata": {},
   "outputs": [
    {
     "data": {
      "image/png": "[encoded data removed]",
      "text/plain": [
       "<Figure size 432x216 with 1 Axes>"
      ]
     },
     "metadata": {},
     "output_type": "display_data"
    }
   ],
   "source": [
    "((train.BankGrade.value_counts()/sum(train.BankGrade.value_counts()))*100).plot(kind='bar',\n",
    "                                  figsize=(6,3),\n",
    "                                  color=[\"blue\"],\n",
    "                                  alpha = 0.7,\n",
    "                                  fontsize=16)\n",
    "\n",
    "plt.ylim([0,100])\n",
    "plt.title('BankGrade-levels (in percentage)')\n",
    "plt.ylabel('BankGrade-levels',fontsize = 14)\n",
    "plt.grid(True)\n",
    "plt.show()"
   ]
  },
  {
   "cell_type": "code",
   "execution_count": 190,
   "metadata": {},
   "outputs": [
    {
     "data": {
      "text/plain": [
       "Closed with explanation            41546\n",
       "Closed with monetary relief         7029\n",
       "Closed with non-monetary relief     4516\n",
       "Closed                               589\n",
       "Name: ResolutionComments, dtype: int64"
      ]
     },
     "execution_count": 190,
     "metadata": {},
     "output_type": "execute_result"
    }
   ],
   "source": [
    "train.ResolutionComments.value_counts()"
   ]
  },
  {
   "cell_type": "code",
   "execution_count": 191,
   "metadata": {},
   "outputs": [
    {
     "data": {
      "image/png": "[encoded data removed]",
      "text/plain": [
       "<Figure size 432x216 with 1 Axes>"
      ]
     },
     "metadata": {},
     "output_type": "display_data"
    }
   ],
   "source": [
    "plt.figure()\n",
    "train.ResolutionComments.value_counts().plot(kind='bar',\n",
    "                                  figsize=(6,3),\n",
    "                                  color=\"blue\",\n",
    "                                  alpha = 0.7,\n",
    "                                  fontsize=13)\n",
    "plt.title('BankGrade-levels (in numbers)')\n",
    "plt.grid()\n",
    "plt.show()"
   ]
  },
  {
   "cell_type": "code",
   "execution_count": 162,
   "metadata": {},
   "outputs": [
    {
     "data": {
      "image/png": "[encoded data removed]",
      "text/plain": [
       "<Figure size 432x216 with 1 Axes>"
      ]
     },
     "metadata": {},
     "output_type": "display_data"
    }
   ],
   "source": [
    "plt.figure()\n",
    "train.LineOfBusiness.value_counts().plot(kind='bar',\n",
    "                                  figsize=(6,3),\n",
    "                                  color=\"blue\",\n",
    "                                  alpha = 0.7,\n",
    "                                  fontsize=13)\n",
    "plt.title('LineOfBusiness (in numbers)')\n",
    "plt.grid()\n",
    "plt.show()"
   ]
  },
  {
   "cell_type": "code",
   "execution_count": null,
   "metadata": {},
   "outputs": [],
   "source": [
    "##### maximum grievance categories"
   ]
  },
  {
   "cell_type": "code",
   "execution_count": 148,
   "metadata": {},
   "outputs": [],
   "source": [
    "maxgrievancevategories=train['Grievance_Category'].value_counts()"
   ]
  },
  {
   "cell_type": "code",
   "execution_count": 78,
   "metadata": {},
   "outputs": [
    {
     "data": {
      "text/plain": [
       "Loan servicing, payments, escrow account                                            8455\n",
       "Loan modification,collection,foreclosure                                            6469\n",
       "Billing disputes                                                                    3645\n",
       "Dealing with my lender or servicer                                                  3171\n",
       "Managing the loan or lease                                                          2885\n",
       "Other                                                                               2142\n",
       "Identity theft / Fraud / Embezzlement                                               1951\n",
       "Closing/Cancelling account                                                          1599\n",
       "Application, originator, mortgage broker                                            1557\n",
       "Trouble during payment process                                                      1342\n",
       "Problems when you are unable to pay                                                 1170\n",
       "Customer service / Customer relations                                               1159\n",
       "Struggling to pay mortgage                                                          1138\n",
       "Settlement process and costs                                                        1131\n",
       "Rewards                                                                             1115\n",
       "Advertising and marketing                                                            982\n",
       "Taking out the loan or lease                                                         933\n",
       "Late fee                                                                             929\n",
       "Can't repay my loan                                                                  911\n",
       "Delinquent account                                                                   900\n",
       "Credit card protection / Debt protection                                             871\n",
       "APR or interest rate                                                                 854\n",
       "Transaction issue                                                                    818\n",
       "Billing statement                                                                    809\n",
       "Dealing with your lender or servicer                                                 790\n",
       "Credit decision / Underwriting                                                       630\n",
       "Other fee                                                                            626\n",
       "Unsolicited issuance of credit card                                                  577\n",
       "Credit determination                                                                 538\n",
       "Payoff process                                                                       510\n",
       "                                                                                    ... \n",
       "Incorrect information on your report                                                 113\n",
       "Getting a loan                                                                       109\n",
       "Forbearance / Workout plans                                                          100\n",
       "Sale of account                                                                       86\n",
       "Arbitration                                                                           84\n",
       "Bankruptcy                                                                            83\n",
       "Application processing delay                                                          82\n",
       "Charged fees or interest I didn't expect                                              60\n",
       "Balance transfer fee                                                                  60\n",
       "Convenience checks                                                                    48\n",
       "Cash advance                                                                          46\n",
       "Cash advance fee                                                                      46\n",
       "Problem with a credit reporting company's investigation into an existing problem      33\n",
       "Overlimit fee                                                                         27\n",
       "Applying for a mortgage                                                               26\n",
       "Can't contact lender                                                                  16\n",
       "Applied for loan/did not receive money                                                11\n",
       "Managing the line of credit                                                           11\n",
       "Lender repossessed or sold the vehicle                                                11\n",
       "Payment to acct not credited                                                          10\n",
       "Credit monitoring or identity theft protection services                                9\n",
       "Account terms and changes                                                              8\n",
       "Shopping for a line of credit                                                          7\n",
       "Improper use of your report                                                            6\n",
       "Charged bank acct wrong day or amt                                                     3\n",
       "Received a loan I didn't apply for                                                     3\n",
       "Can't stop charges to bank account                                                     3\n",
       "Unable to get your credit report or credit score                                       3\n",
       "Lender damaged or destroyed vehicle                                                    1\n",
       "Lender sold the property                                                               1\n",
       "Name: Grievance_Category, Length: 67, dtype: int64"
      ]
     },
     "execution_count": 78,
     "metadata": {},
     "output_type": "execute_result"
    }
   ],
   "source": [
    "maxgrievancevategories"
   ]
  },
  {
   "cell_type": "code",
   "execution_count": 86,
   "metadata": {},
   "outputs": [
    {
     "data": {
      "image/png": "[encoded data removed]",
      "text/plain": [
       "<Figure size 432x216 with 1 Axes>"
      ]
     },
     "metadata": {},
     "output_type": "display_data"
    }
   ],
   "source": [
    "plt.figure()\n",
    "maxgrievancevategories[maxgrievancevategories>1000].plot(kind='bar',figsize=(6,3),\n",
    "                                  color=[\"blue\"],\n",
    "                                  alpha = 0.7,\n",
    "                                  fontsize=16)\n",
    "                                  \n",
    "plt.title('maximum grievance categories (in numbers)')\n",
    "plt.grid()\n",
    "plt.show()"
   ]
  },
  {
   "cell_type": "code",
   "execution_count": null,
   "metadata": {},
   "outputs": [],
   "source": [
    "######   changing into date format and calculating days "
   ]
  },
  {
   "cell_type": "code",
   "execution_count": 168,
   "metadata": {},
   "outputs": [],
   "source": [
    "from datetime import datetime"
   ]
  },
  {
   "cell_type": "code",
   "execution_count": 169,
   "metadata": {},
   "outputs": [],
   "source": [
    "train['DateOfGrievance']=pd.to_datetime(train['DateOfGrievance'],format='%Y-%m-%d')\n",
    "train['DateOfResolution']=pd.to_datetime(train['DateOfResolution'],format='%Y-%m-%d')"
   ]
  },
  {
   "cell_type": "code",
   "execution_count": 170,
   "metadata": {},
   "outputs": [
    {
     "data": {
      "text/plain": [
       "Timedelta('1 days 00:00:00')"
      ]
     },
     "execution_count": 170,
     "metadata": {},
     "output_type": "execute_result"
    }
   ],
   "source": [
    "train['days']=train['DateOfResolution']-train['DateOfGrievance']\n",
    "max(days)\n",
    "min(days)\n"
   ]
  },
  {
   "cell_type": "code",
   "execution_count": 172,
   "metadata": {
    "scrolled": true
   },
   "outputs": [
    {
     "data": {
      "text/html": [
       "<div>\n",
       "<style scoped>\n",
       "    .dataframe tbody tr th:only-of-type {\n",
       "        vertical-align: middle;\n",
       "    }\n",
       "\n",
       "    .dataframe tbody tr th {\n",
       "        vertical-align: top;\n",
       "    }\n",
       "\n",
       "    .dataframe thead th {\n",
       "        text-align: right;\n",
       "    }\n",
       "</style>\n",
       "<table border=\"1\" class=\"dataframe\">\n",
       "  <thead>\n",
       "    <tr style=\"text-align: right;\">\n",
       "      <th></th>\n",
       "      <th>days</th>\n",
       "      <th>Grievance_Category</th>\n",
       "      <th>Count</th>\n",
       "    </tr>\n",
       "  </thead>\n",
       "  <tbody>\n",
       "    <tr>\n",
       "      <th>0</th>\n",
       "      <td>1 days</td>\n",
       "      <td>Charged fees or interest I didn't expect</td>\n",
       "      <td>2</td>\n",
       "    </tr>\n",
       "    <tr>\n",
       "      <th>1</th>\n",
       "      <td>2 days</td>\n",
       "      <td>Charged fees or interest I didn't expect</td>\n",
       "      <td>9</td>\n",
       "    </tr>\n",
       "    <tr>\n",
       "      <th>2</th>\n",
       "      <td>3 days</td>\n",
       "      <td>Charged bank acct wrong day or amt</td>\n",
       "      <td>3</td>\n",
       "    </tr>\n",
       "    <tr>\n",
       "      <th>3</th>\n",
       "      <td>3 days</td>\n",
       "      <td>Charged fees or interest I didn't expect</td>\n",
       "      <td>7</td>\n",
       "    </tr>\n",
       "    <tr>\n",
       "      <th>4</th>\n",
       "      <td>4 days</td>\n",
       "      <td>Charged fees or interest I didn't expect</td>\n",
       "      <td>3</td>\n",
       "    </tr>\n",
       "    <tr>\n",
       "      <th>5</th>\n",
       "      <td>4 days</td>\n",
       "      <td>Received a loan I didn't apply for</td>\n",
       "      <td>2</td>\n",
       "    </tr>\n",
       "    <tr>\n",
       "      <th>6</th>\n",
       "      <td>5 days</td>\n",
       "      <td>Charged fees or interest I didn't expect</td>\n",
       "      <td>9</td>\n",
       "    </tr>\n",
       "    <tr>\n",
       "      <th>7</th>\n",
       "      <td>6 days</td>\n",
       "      <td>Charged fees or interest I didn't expect</td>\n",
       "      <td>4</td>\n",
       "    </tr>\n",
       "    <tr>\n",
       "      <th>8</th>\n",
       "      <td>7 days</td>\n",
       "      <td>Charged fees or interest I didn't expect</td>\n",
       "      <td>6</td>\n",
       "    </tr>\n",
       "    <tr>\n",
       "      <th>9</th>\n",
       "      <td>8 days</td>\n",
       "      <td>Charged fees or interest I didn't expect</td>\n",
       "      <td>2</td>\n",
       "    </tr>\n",
       "    <tr>\n",
       "      <th>10</th>\n",
       "      <td>10 days</td>\n",
       "      <td>Charged fees or interest I didn't expect</td>\n",
       "      <td>1</td>\n",
       "    </tr>\n",
       "    <tr>\n",
       "      <th>11</th>\n",
       "      <td>11 days</td>\n",
       "      <td>APR or interest rate</td>\n",
       "      <td>633</td>\n",
       "    </tr>\n",
       "    <tr>\n",
       "      <th>12</th>\n",
       "      <td>11 days</td>\n",
       "      <td>Account terms and changes</td>\n",
       "      <td>3</td>\n",
       "    </tr>\n",
       "    <tr>\n",
       "      <th>13</th>\n",
       "      <td>11 days</td>\n",
       "      <td>Advertising and marketing</td>\n",
       "      <td>577</td>\n",
       "    </tr>\n",
       "    <tr>\n",
       "      <th>14</th>\n",
       "      <td>11 days</td>\n",
       "      <td>Application processing delay</td>\n",
       "      <td>57</td>\n",
       "    </tr>\n",
       "    <tr>\n",
       "      <th>15</th>\n",
       "      <td>11 days</td>\n",
       "      <td>Applied for loan/did not receive money</td>\n",
       "      <td>2</td>\n",
       "    </tr>\n",
       "    <tr>\n",
       "      <th>16</th>\n",
       "      <td>11 days</td>\n",
       "      <td>Applying for a mortgage</td>\n",
       "      <td>26</td>\n",
       "    </tr>\n",
       "    <tr>\n",
       "      <th>17</th>\n",
       "      <td>11 days</td>\n",
       "      <td>Applying for a mortgage or refinancing an exis...</td>\n",
       "      <td>189</td>\n",
       "    </tr>\n",
       "    <tr>\n",
       "      <th>18</th>\n",
       "      <td>11 days</td>\n",
       "      <td>Arbitration</td>\n",
       "      <td>36</td>\n",
       "    </tr>\n",
       "    <tr>\n",
       "      <th>19</th>\n",
       "      <td>11 days</td>\n",
       "      <td>Balance transfer</td>\n",
       "      <td>259</td>\n",
       "    </tr>\n",
       "    <tr>\n",
       "      <th>20</th>\n",
       "      <td>11 days</td>\n",
       "      <td>Balance transfer fee</td>\n",
       "      <td>46</td>\n",
       "    </tr>\n",
       "    <tr>\n",
       "      <th>21</th>\n",
       "      <td>11 days</td>\n",
       "      <td>Bankruptcy</td>\n",
       "      <td>41</td>\n",
       "    </tr>\n",
       "    <tr>\n",
       "      <th>22</th>\n",
       "      <td>11 days</td>\n",
       "      <td>Billing disputes</td>\n",
       "      <td>2321</td>\n",
       "    </tr>\n",
       "    <tr>\n",
       "      <th>23</th>\n",
       "      <td>11 days</td>\n",
       "      <td>Billing statement</td>\n",
       "      <td>532</td>\n",
       "    </tr>\n",
       "    <tr>\n",
       "      <th>24</th>\n",
       "      <td>11 days</td>\n",
       "      <td>Can't repay my loan</td>\n",
       "      <td>589</td>\n",
       "    </tr>\n",
       "    <tr>\n",
       "      <th>25</th>\n",
       "      <td>11 days</td>\n",
       "      <td>Cash advance</td>\n",
       "      <td>34</td>\n",
       "    </tr>\n",
       "    <tr>\n",
       "      <th>26</th>\n",
       "      <td>11 days</td>\n",
       "      <td>Cash advance fee</td>\n",
       "      <td>26</td>\n",
       "    </tr>\n",
       "    <tr>\n",
       "      <th>27</th>\n",
       "      <td>11 days</td>\n",
       "      <td>Closing on a mortgage</td>\n",
       "      <td>174</td>\n",
       "    </tr>\n",
       "    <tr>\n",
       "      <th>28</th>\n",
       "      <td>11 days</td>\n",
       "      <td>Closing/Cancelling account</td>\n",
       "      <td>994</td>\n",
       "    </tr>\n",
       "    <tr>\n",
       "      <th>29</th>\n",
       "      <td>11 days</td>\n",
       "      <td>Convenience checks</td>\n",
       "      <td>36</td>\n",
       "    </tr>\n",
       "    <tr>\n",
       "      <th>...</th>\n",
       "      <td>...</td>\n",
       "      <td>...</td>\n",
       "      <td>...</td>\n",
       "    </tr>\n",
       "    <tr>\n",
       "      <th>1303</th>\n",
       "      <td>92 days</td>\n",
       "      <td>Dealing with my lender or servicer</td>\n",
       "      <td>1</td>\n",
       "    </tr>\n",
       "    <tr>\n",
       "      <th>1304</th>\n",
       "      <td>92 days</td>\n",
       "      <td>Problems when you are unable to pay</td>\n",
       "      <td>1</td>\n",
       "    </tr>\n",
       "    <tr>\n",
       "      <th>1305</th>\n",
       "      <td>93 days</td>\n",
       "      <td>Dealing with my lender or servicer</td>\n",
       "      <td>1</td>\n",
       "    </tr>\n",
       "    <tr>\n",
       "      <th>1306</th>\n",
       "      <td>94 days</td>\n",
       "      <td>Credit decision / Underwriting</td>\n",
       "      <td>1</td>\n",
       "    </tr>\n",
       "    <tr>\n",
       "      <th>1307</th>\n",
       "      <td>96 days</td>\n",
       "      <td>Account terms and changes</td>\n",
       "      <td>1</td>\n",
       "    </tr>\n",
       "    <tr>\n",
       "      <th>1308</th>\n",
       "      <td>98 days</td>\n",
       "      <td>Loan servicing, payments, escrow account</td>\n",
       "      <td>1</td>\n",
       "    </tr>\n",
       "    <tr>\n",
       "      <th>1309</th>\n",
       "      <td>99 days</td>\n",
       "      <td>Dealing with my lender or servicer</td>\n",
       "      <td>1</td>\n",
       "    </tr>\n",
       "    <tr>\n",
       "      <th>1310</th>\n",
       "      <td>102 days</td>\n",
       "      <td>Application, originator, mortgage broker</td>\n",
       "      <td>2</td>\n",
       "    </tr>\n",
       "    <tr>\n",
       "      <th>1311</th>\n",
       "      <td>102 days</td>\n",
       "      <td>Dealing with my lender or servicer</td>\n",
       "      <td>2</td>\n",
       "    </tr>\n",
       "    <tr>\n",
       "      <th>1312</th>\n",
       "      <td>106 days</td>\n",
       "      <td>Billing disputes</td>\n",
       "      <td>2</td>\n",
       "    </tr>\n",
       "    <tr>\n",
       "      <th>1313</th>\n",
       "      <td>106 days</td>\n",
       "      <td>Can't repay my loan</td>\n",
       "      <td>1</td>\n",
       "    </tr>\n",
       "    <tr>\n",
       "      <th>1314</th>\n",
       "      <td>113 days</td>\n",
       "      <td>Loan servicing, payments, escrow account</td>\n",
       "      <td>1</td>\n",
       "    </tr>\n",
       "    <tr>\n",
       "      <th>1315</th>\n",
       "      <td>116 days</td>\n",
       "      <td>Transaction issue</td>\n",
       "      <td>1</td>\n",
       "    </tr>\n",
       "    <tr>\n",
       "      <th>1316</th>\n",
       "      <td>120 days</td>\n",
       "      <td>Managing the loan or lease</td>\n",
       "      <td>1</td>\n",
       "    </tr>\n",
       "    <tr>\n",
       "      <th>1317</th>\n",
       "      <td>121 days</td>\n",
       "      <td>Dealing with my lender or servicer</td>\n",
       "      <td>1</td>\n",
       "    </tr>\n",
       "    <tr>\n",
       "      <th>1318</th>\n",
       "      <td>123 days</td>\n",
       "      <td>Application, originator, mortgage broker</td>\n",
       "      <td>2</td>\n",
       "    </tr>\n",
       "    <tr>\n",
       "      <th>1319</th>\n",
       "      <td>127 days</td>\n",
       "      <td>Problems when you are unable to pay</td>\n",
       "      <td>2</td>\n",
       "    </tr>\n",
       "    <tr>\n",
       "      <th>1320</th>\n",
       "      <td>134 days</td>\n",
       "      <td>Struggling to pay mortgage</td>\n",
       "      <td>1</td>\n",
       "    </tr>\n",
       "    <tr>\n",
       "      <th>1321</th>\n",
       "      <td>139 days</td>\n",
       "      <td>Can't repay my loan</td>\n",
       "      <td>1</td>\n",
       "    </tr>\n",
       "    <tr>\n",
       "      <th>1322</th>\n",
       "      <td>155 days</td>\n",
       "      <td>Loan modification,collection,foreclosure</td>\n",
       "      <td>2</td>\n",
       "    </tr>\n",
       "    <tr>\n",
       "      <th>1323</th>\n",
       "      <td>162 days</td>\n",
       "      <td>Managing the loan or lease</td>\n",
       "      <td>1</td>\n",
       "    </tr>\n",
       "    <tr>\n",
       "      <th>1324</th>\n",
       "      <td>171 days</td>\n",
       "      <td>Trouble during payment process</td>\n",
       "      <td>2</td>\n",
       "    </tr>\n",
       "    <tr>\n",
       "      <th>1325</th>\n",
       "      <td>198 days</td>\n",
       "      <td>Loan servicing, payments, escrow account</td>\n",
       "      <td>1</td>\n",
       "    </tr>\n",
       "    <tr>\n",
       "      <th>1326</th>\n",
       "      <td>202 days</td>\n",
       "      <td>Dealing with my lender or servicer</td>\n",
       "      <td>1</td>\n",
       "    </tr>\n",
       "    <tr>\n",
       "      <th>1327</th>\n",
       "      <td>205 days</td>\n",
       "      <td>Managing the loan or lease</td>\n",
       "      <td>2</td>\n",
       "    </tr>\n",
       "    <tr>\n",
       "      <th>1328</th>\n",
       "      <td>211 days</td>\n",
       "      <td>Dealing with my lender or servicer</td>\n",
       "      <td>1</td>\n",
       "    </tr>\n",
       "    <tr>\n",
       "      <th>1329</th>\n",
       "      <td>281 days</td>\n",
       "      <td>Problems when you are unable to pay</td>\n",
       "      <td>1</td>\n",
       "    </tr>\n",
       "    <tr>\n",
       "      <th>1330</th>\n",
       "      <td>314 days</td>\n",
       "      <td>Dealing with my lender or servicer</td>\n",
       "      <td>1</td>\n",
       "    </tr>\n",
       "    <tr>\n",
       "      <th>1331</th>\n",
       "      <td>554 days</td>\n",
       "      <td>Loan modification,collection,foreclosure</td>\n",
       "      <td>1</td>\n",
       "    </tr>\n",
       "    <tr>\n",
       "      <th>1332</th>\n",
       "      <td>629 days</td>\n",
       "      <td>Credit decision / Underwriting</td>\n",
       "      <td>2</td>\n",
       "    </tr>\n",
       "  </tbody>\n",
       "</table>\n",
       "<p>1333 rows × 3 columns</p>\n",
       "</div>"
      ],
      "text/plain": [
       "         days                                 Grievance_Category  Count\n",
       "0      1 days           Charged fees or interest I didn't expect      2\n",
       "1      2 days           Charged fees or interest I didn't expect      9\n",
       "2      3 days                 Charged bank acct wrong day or amt      3\n",
       "3      3 days           Charged fees or interest I didn't expect      7\n",
       "4      4 days           Charged fees or interest I didn't expect      3\n",
       "5      4 days                 Received a loan I didn't apply for      2\n",
       "6      5 days           Charged fees or interest I didn't expect      9\n",
       "7      6 days           Charged fees or interest I didn't expect      4\n",
       "8      7 days           Charged fees or interest I didn't expect      6\n",
       "9      8 days           Charged fees or interest I didn't expect      2\n",
       "10    10 days           Charged fees or interest I didn't expect      1\n",
       "11    11 days                               APR or interest rate    633\n",
       "12    11 days                          Account terms and changes      3\n",
       "13    11 days                          Advertising and marketing    577\n",
       "14    11 days                       Application processing delay     57\n",
       "15    11 days             Applied for loan/did not receive money      2\n",
       "16    11 days                            Applying for a mortgage     26\n",
       "17    11 days  Applying for a mortgage or refinancing an exis...    189\n",
       "18    11 days                                        Arbitration     36\n",
       "19    11 days                                   Balance transfer    259\n",
       "20    11 days                               Balance transfer fee     46\n",
       "21    11 days                                         Bankruptcy     41\n",
       "22    11 days                                   Billing disputes   2321\n",
       "23    11 days                                  Billing statement    532\n",
       "24    11 days                                Can't repay my loan    589\n",
       "25    11 days                                       Cash advance     34\n",
       "26    11 days                                   Cash advance fee     26\n",
       "27    11 days                              Closing on a mortgage    174\n",
       "28    11 days                         Closing/Cancelling account    994\n",
       "29    11 days                                 Convenience checks     36\n",
       "...       ...                                                ...    ...\n",
       "1303  92 days                 Dealing with my lender or servicer      1\n",
       "1304  92 days                Problems when you are unable to pay      1\n",
       "1305  93 days                 Dealing with my lender or servicer      1\n",
       "1306  94 days                     Credit decision / Underwriting      1\n",
       "1307  96 days                          Account terms and changes      1\n",
       "1308  98 days           Loan servicing, payments, escrow account      1\n",
       "1309  99 days                 Dealing with my lender or servicer      1\n",
       "1310 102 days           Application, originator, mortgage broker      2\n",
       "1311 102 days                 Dealing with my lender or servicer      2\n",
       "1312 106 days                                   Billing disputes      2\n",
       "1313 106 days                                Can't repay my loan      1\n",
       "1314 113 days           Loan servicing, payments, escrow account      1\n",
       "1315 116 days                                  Transaction issue      1\n",
       "1316 120 days                         Managing the loan or lease      1\n",
       "1317 121 days                 Dealing with my lender or servicer      1\n",
       "1318 123 days           Application, originator, mortgage broker      2\n",
       "1319 127 days                Problems when you are unable to pay      2\n",
       "1320 134 days                         Struggling to pay mortgage      1\n",
       "1321 139 days                                Can't repay my loan      1\n",
       "1322 155 days           Loan modification,collection,foreclosure      2\n",
       "1323 162 days                         Managing the loan or lease      1\n",
       "1324 171 days                     Trouble during payment process      2\n",
       "1325 198 days           Loan servicing, payments, escrow account      1\n",
       "1326 202 days                 Dealing with my lender or servicer      1\n",
       "1327 205 days                         Managing the loan or lease      2\n",
       "1328 211 days                 Dealing with my lender or servicer      1\n",
       "1329 281 days                Problems when you are unable to pay      1\n",
       "1330 314 days                 Dealing with my lender or servicer      1\n",
       "1331 554 days           Loan modification,collection,foreclosure      1\n",
       "1332 629 days                     Credit decision / Underwriting      2\n",
       "\n",
       "[1333 rows x 3 columns]"
      ]
     },
     "execution_count": 172,
     "metadata": {},
     "output_type": "execute_result"
    }
   ],
   "source": [
    "temp = train.groupby(['days','Grievance_Category']).size().to_frame()\n",
    "temp = temp.reset_index()\n",
    "temp.columns = ['days','Grievance_Category','Count']\n",
    "temp"
   ]
  },
  {
   "cell_type": "code",
   "execution_count": 196,
   "metadata": {},
   "outputs": [
    {
     "data": {
      "text/plain": [
       "<matplotlib.axes._subplots.AxesSubplot at 0x217c90583c8>"
      ]
     },
     "execution_count": 196,
     "metadata": {},
     "output_type": "execute_result"
    },
    {
     "data": {
      "image/png": "[encoded data removed]",
      "text/plain": [
       "<Figure size 432x288 with 1 Axes>"
      ]
     },
     "metadata": {},
     "output_type": "display_data"
    }
   ],
   "source": [
    "temp = train.groupby(['ResolutionComments','BankGrade']).size().to_frame()\n",
    "temp.plot(kind='bar')"
   ]
  },
  {
   "cell_type": "code",
   "execution_count": 6,
   "metadata": {},
   "outputs": [
    {
     "data": {
      "text/html": [
       "<div>\n",
       "<style scoped>\n",
       "    .dataframe tbody tr th:only-of-type {\n",
       "        vertical-align: middle;\n",
       "    }\n",
       "\n",
       "    .dataframe tbody tr th {\n",
       "        vertical-align: top;\n",
       "    }\n",
       "\n",
       "    .dataframe thead th {\n",
       "        text-align: right;\n",
       "    }\n",
       "</style>\n",
       "<table border=\"1\" class=\"dataframe\">\n",
       "  <thead>\n",
       "    <tr style=\"text-align: right;\">\n",
       "      <th></th>\n",
       "      <th></th>\n",
       "      <th>0</th>\n",
       "    </tr>\n",
       "    <tr>\n",
       "      <th>Disputed</th>\n",
       "      <th>BankGrade</th>\n",
       "      <th></th>\n",
       "    </tr>\n",
       "  </thead>\n",
       "  <tbody>\n",
       "    <tr>\n",
       "      <th rowspan=\"3\" valign=\"top\">No</th>\n",
       "      <th>deficient</th>\n",
       "      <td>10872</td>\n",
       "    </tr>\n",
       "    <tr>\n",
       "      <th>outstanding</th>\n",
       "      <td>3831</td>\n",
       "    </tr>\n",
       "    <tr>\n",
       "      <th>satisfactory</th>\n",
       "      <td>27192</td>\n",
       "    </tr>\n",
       "    <tr>\n",
       "      <th rowspan=\"3\" valign=\"top\">Yes</th>\n",
       "      <th>deficient</th>\n",
       "      <td>3432</td>\n",
       "    </tr>\n",
       "    <tr>\n",
       "      <th>outstanding</th>\n",
       "      <td>664</td>\n",
       "    </tr>\n",
       "    <tr>\n",
       "      <th>satisfactory</th>\n",
       "      <td>7689</td>\n",
       "    </tr>\n",
       "  </tbody>\n",
       "</table>\n",
       "</div>"
      ],
      "text/plain": [
       "                           0\n",
       "Disputed BankGrade          \n",
       "No       deficient     10872\n",
       "         outstanding    3831\n",
       "         satisfactory  27192\n",
       "Yes      deficient      3432\n",
       "         outstanding     664\n",
       "         satisfactory   7689"
      ]
     },
     "execution_count": 6,
     "metadata": {},
     "output_type": "execute_result"
    },
    {
     "data": {
      "image/png": "[encoded data removed]",
      "text/plain": [
       "<Figure size 432x288 with 1 Axes>"
      ]
     },
     "metadata": {},
     "output_type": "display_data"
    }
   ],
   "source": [
    "temp=train.groupby(['Disputed','BankGrade']).size().to_frame()\n",
    "temp.plot(kind='bar')\n",
    "temp"
   ]
  },
  {
   "cell_type": "markdown",
   "metadata": {},
   "source": [
    "###   Text pre processing"
   ]
  },
  {
   "cell_type": "code",
   "execution_count": 9,
   "metadata": {},
   "outputs": [],
   "source": [
    "import re\n",
    "from nltk.corpus import RegexpTokenizer as regextoken\n",
    "stop = stopwords.words('english')\n",
    "lmtzr = nltk.stem.WordNetLemmatizer()\n",
    "table = str.maketrans({key: None for key in string.punctuation})\n",
    "\n",
    "def text_preprocessing(text):\n",
    "    tokenizer = regextoken('\\w+') # regular expression to select one or more word character\n",
    "    text = re.sub(r'\\s+', ' ', str(text)) # substitute one or more whitespace with one whitespace\n",
    "    text = re.sub(r'[\\d]', '', str(text)) # substitute occuerence of single\n",
    "    text = text.translate(table) # remove punctuations\n",
    "    sentences = nltk.tokenize.sent_tokenize(text)\n",
    "    sentence_tokens = [tokenizer.tokenize(sentence) for sentence in sentences]\n",
    "    # convert word to lower case and remove words that are part of nltk stop words\n",
    "    tokens = [[word.lower() for word in sent if word not in stop] for sent in sentence_tokens] \n",
    "    tokens = [[lmtzr.lemmatize(word) for word in sent] for sent in tokens] # convert words to its root using lemmatization\n",
    "    flattened_list = [y for x in tokens for y in x]\n",
    "    token_refined = [word for word in flattened_list if len(word) > 1] # remove words with length 1\n",
    "    string = str(' '.join(token_refined)) # join contents of list to form a continuous string\n",
    "    return (string)"
   ]
  },
  {
   "cell_type": "code",
   "execution_count": 10,
   "metadata": {},
   "outputs": [],
   "source": [
    "train['GrievanceDescription'] = train['GrievanceDescription'].apply(lambda x: text_preprocessing(x))"
   ]
  },
  {
   "cell_type": "code",
   "execution_count": 212,
   "metadata": {},
   "outputs": [
    {
     "data": {
      "text/plain": [
       "0        bank research dpt xxxx xxxx xxxx xxxx ca xxxxx...\n",
       "1        our mortgage sold bank xxxx they bought xxxx x...\n",
       "2        offered trial modification servicer bank accep...\n",
       "3        our mortgage sold bank xxxx they bought xxxx x...\n",
       "4        my previous mortgage servicer sold loan bank s...\n",
       "5        xxxx xxxx xxxx transferred servicing loan xxxx...\n",
       "6        xxxx year old female retired due decreased inc...\n",
       "7        already placed complaint bank problem escrow a...\n",
       "8        my wife home mortgage xxxx xxxx xxxx last year...\n",
       "9        apparently mortgage sold bank servicing xxxx x...\n",
       "10       xxxxxxxx xxxxxxxx tried make payment bank comp...\n",
       "11       the servicing home mortgage transferred xxxx x...\n",
       "12       in xxxxxxxx got divorced lost job lot trouble ...\n",
       "13       in xxxx spoke bank mortgage arrange get curren...\n",
       "14       my loan account transferred another mortgage c...\n",
       "15       my mortgage transferred xxxx xxxx xxxx bank ll...\n",
       "16       owned home since xxxx gone xxxx xxxx xxxx xxxx...\n",
       "17       my mortgage sold xxxx xxxx xxxx bank xxxx xxxx...\n",
       "18       my mortgage sold xxxx xxxx xxxx bank xxxx xxxx...\n",
       "19       my mortgage transferred xxxx xxxx xxxx bank la...\n",
       "20       our homeowner insurance paid bank escrow accou...\n",
       "21       our homeowner insurance paid bank escrow accou...\n",
       "22       bank took mortgage xxxx since mortgage recorde...\n",
       "23       during mortgage transfer gaining loan servicer...\n",
       "24       vacated house owned xxxxxxxx xxxxxxxx my wife ...\n",
       "25       lived home xxxx year in last xxxx year persona...\n",
       "26       my mortgage sold xxxx xxxx xxxx xxxx bank llc ...\n",
       "27       disputed inaccurate reporting bank reguarding ...\n",
       "28       on xxxxxxxx sent fax lender requesting payoff ...\n",
       "29       our mortgage bought bank bank xxxx they tellin...\n",
       "                               ...                        \n",
       "53650    abo ut ago went casino xxxx signed mastercardt...\n",
       "53651    xxxx triple charged interest within day there ...\n",
       "53652    cometity bank charging much interest the inter...\n",
       "53653    victoria secret comenity bank my account showi...\n",
       "53654    credit card xxxx financed comenity bank purcha...\n",
       "53655    cometity bank charging much interest the inter...\n",
       "53656    sent via usps certified mail following letter ...\n",
       "53657    the cc company comenity bank submitted duplica...\n",
       "53658    the cc company comenity bank submitted duplica...\n",
       "53659    paypay credit offer payment interest purchase ...\n",
       "53660    despite contacting comenity bank writing dispu...\n",
       "53661    xxxxxxxx someone tried open xxxx account using...\n",
       "53662    in late xxxx learned via email victoria secret...\n",
       "53663    after fraudulent address change form sent mail...\n",
       "53664    credit card company continues calling family m...\n",
       "53665    misled thinking could xxxx alternative xxxx xx...\n",
       "53666    requested credit increase another card husband...\n",
       "53667    comenity bank refused application xxxx xxxx xx...\n",
       "53668    shocked reviewed credit report found late paym...\n",
       "53669    on xxxx xxxx xxxx requested credit line increa...\n",
       "53670    my creditor using abusive collection tactic to...\n",
       "53671    xxxx purchasing credit card management web in ...\n",
       "53672    comenity harassing phone number calling severa...\n",
       "53673    on xxx went xxxx xxxx purchase couch planning ...\n",
       "53674    on xxxx xxxx paid xxxx xxxx card comenity bank...\n",
       "53675    applied approved numerous comenity bank comeni...\n",
       "53676    customer comenity xxxx xxxx two year never eve...\n",
       "53677    received late fee credit card company without ...\n",
       "53678    purchased pair garage door spring xxxx website...\n",
       "53679    purchased pair garage door spring xxxx website...\n",
       "Name: GrievanceDescription, Length: 53680, dtype: object"
      ]
     },
     "execution_count": 212,
     "metadata": {},
     "output_type": "execute_result"
    }
   ],
   "source": [
    "train['GrievanceDescription']"
   ]
  },
  {
   "cell_type": "code",
   "execution_count": 199,
   "metadata": {},
   "outputs": [],
   "source": [
    "string =\"\"\n",
    "for sub_list in train['GrievanceDescription']:\n",
    "    for i in sub_list:\n",
    "        string=string+(\"\").join(i)"
   ]
  },
  {
   "cell_type": "code",
   "execution_count": 200,
   "metadata": {},
   "outputs": [
    {
     "data": {
      "image/png": "[encoded data removed]",
      "text/plain": [
       "<Figure size 432x288 with 1 Axes>"
      ]
     },
     "metadata": {},
     "output_type": "display_data"
    }
   ],
   "source": [
    "from wordcloud import WordCloud\n",
    "wordcloud = WordCloud(max_font_size=50, max_words=250,min_font_size=10, background_color=\"black\").generate(string)\n",
    "plt.figure()\n",
    "plt.imshow(wordcloud, interpolation=\"bilinear\")\n",
    "plt.axis(\"off\")\n",
    "plt.show()"
   ]
  },
  {
   "cell_type": "code",
   "execution_count": 330,
   "metadata": {},
   "outputs": [
    {
     "data": {
      "text/html": [
       "<div>\n",
       "<style scoped>\n",
       "    .dataframe tbody tr th:only-of-type {\n",
       "        vertical-align: middle;\n",
       "    }\n",
       "\n",
       "    .dataframe tbody tr th {\n",
       "        vertical-align: top;\n",
       "    }\n",
       "\n",
       "    .dataframe thead th {\n",
       "        text-align: right;\n",
       "    }\n",
       "</style>\n",
       "<table border=\"1\" class=\"dataframe\">\n",
       "  <thead>\n",
       "    <tr style=\"text-align: right;\">\n",
       "      <th></th>\n",
       "      <th>GrievanceID</th>\n",
       "      <th>BankID</th>\n",
       "      <th>State</th>\n",
       "      <th>DateOfGrievance</th>\n",
       "      <th>Grievance_Category</th>\n",
       "      <th>GrievanceDescription</th>\n",
       "      <th>LineOfBusiness</th>\n",
       "      <th>ResolutionComments</th>\n",
       "      <th>Disputed</th>\n",
       "      <th>DateOfResolution</th>\n",
       "      <th>BankGrade</th>\n",
       "    </tr>\n",
       "  </thead>\n",
       "  <tbody>\n",
       "    <tr>\n",
       "      <th>0</th>\n",
       "      <td>GID512411</td>\n",
       "      <td>Bank5279</td>\n",
       "      <td>State31</td>\n",
       "      <td>2016-01-19</td>\n",
       "      <td>Settlement process and costs</td>\n",
       "      <td>bank research dpt xxxx xxxx xxxx xxxx ca xxxxx...</td>\n",
       "      <td>Mortgage</td>\n",
       "      <td>Closed with explanation</td>\n",
       "      <td>No</td>\n",
       "      <td>2016-01-30</td>\n",
       "      <td>outstanding</td>\n",
       "    </tr>\n",
       "    <tr>\n",
       "      <th>1</th>\n",
       "      <td>GID512415</td>\n",
       "      <td>Bank5279</td>\n",
       "      <td>State53</td>\n",
       "      <td>2016-01-19</td>\n",
       "      <td>Loan servicing, payments, escrow account</td>\n",
       "      <td>mortgage sold bank xxxx bought xxxx xxxx xxxx ...</td>\n",
       "      <td>Mortgage</td>\n",
       "      <td>Closed with explanation</td>\n",
       "      <td>No</td>\n",
       "      <td>2016-01-30</td>\n",
       "      <td>outstanding</td>\n",
       "    </tr>\n",
       "  </tbody>\n",
       "</table>\n",
       "</div>"
      ],
      "text/plain": [
       "  GrievanceID    BankID    State DateOfGrievance  \\\n",
       "0   GID512411  Bank5279  State31      2016-01-19   \n",
       "1   GID512415  Bank5279  State53      2016-01-19   \n",
       "\n",
       "                         Grievance_Category  \\\n",
       "0              Settlement process and costs   \n",
       "1  Loan servicing, payments, escrow account   \n",
       "\n",
       "                                GrievanceDescription LineOfBusiness  \\\n",
       "0  bank research dpt xxxx xxxx xxxx xxxx ca xxxxx...       Mortgage   \n",
       "1  mortgage sold bank xxxx bought xxxx xxxx xxxx ...       Mortgage   \n",
       "\n",
       "        ResolutionComments Disputed DateOfResolution    BankGrade  \n",
       "0  Closed with explanation       No       2016-01-30  outstanding  \n",
       "1  Closed with explanation       No       2016-01-30  outstanding  "
      ]
     },
     "execution_count": 330,
     "metadata": {},
     "output_type": "execute_result"
    }
   ],
   "source": [
    "train.head(2)"
   ]
  },
  {
   "cell_type": "code",
   "execution_count": null,
   "metadata": {},
   "outputs": [],
   "source": [
    "### constructing TF-IDF matrix"
   ]
  },
  {
   "cell_type": "code",
   "execution_count": 11,
   "metadata": {},
   "outputs": [],
   "source": [
    "from sklearn.feature_extraction.text import TfidfVectorizer"
   ]
  },
  {
   "cell_type": "code",
   "execution_count": 12,
   "metadata": {},
   "outputs": [],
   "source": [
    "vectorizer = TfidfVectorizer(ngram_range=(1,1), stop_words='english', min_df=0.001)\n",
    "\n",
    "# tokenize and build vocab\n",
    "vectorizer.fit(train['GrievanceDescription'])\n",
    "\n",
    "# encode document\n",
    "vector = vectorizer.transform(train['GrievanceDescription'])"
   ]
  },
  {
   "cell_type": "code",
   "execution_count": 229,
   "metadata": {},
   "outputs": [
    {
     "name": "stdout",
     "output_type": "stream",
     "text": [
      "(53680, 4157)\n"
     ]
    }
   ],
   "source": [
    "print(vector.shape)"
   ]
  },
  {
   "cell_type": "code",
   "execution_count": 13,
   "metadata": {},
   "outputs": [],
   "source": [
    "# convert sparse representation review-word matrix to dense representation\n",
    "Dense_mat = vector.todense()\n",
    "A = pd.DataFrame(Dense_mat, columns=vectorizer.get_feature_names())"
   ]
  },
  {
   "cell_type": "code",
   "execution_count": 230,
   "metadata": {},
   "outputs": [
    {
     "data": {
      "text/plain": [
       "(53680, 4157)"
      ]
     },
     "execution_count": 230,
     "metadata": {},
     "output_type": "execute_result"
    }
   ],
   "source": [
    "A.shape"
   ]
  },
  {
   "cell_type": "markdown",
   "metadata": {},
   "source": [
    "### Build a model"
   ]
  },
  {
   "cell_type": "code",
   "execution_count": null,
   "metadata": {},
   "outputs": [],
   "source": [
    "##### perform train and validation split"
   ]
  },
  {
   "cell_type": "code",
   "execution_count": 7,
   "metadata": {},
   "outputs": [],
   "source": [
    "from sklearn.model_selection import train_test_split"
   ]
  },
  {
   "cell_type": "code",
   "execution_count": 14,
   "metadata": {},
   "outputs": [],
   "source": [
    "# split data into train (70%) and validation (30%)\n",
    "X_train, X_val, y_train, y_val = train_test_split(Dense_mat, train['BankGrade'], test_size=0.3, random_state=123)"
   ]
  },
  {
   "cell_type": "code",
   "execution_count": 233,
   "metadata": {},
   "outputs": [
    {
     "data": {
      "text/plain": [
       "((37576, 4157), (37576,))"
      ]
     },
     "execution_count": 233,
     "metadata": {},
     "output_type": "execute_result"
    }
   ],
   "source": [
    "X_train.shape, y_train.shape"
   ]
  },
  {
   "cell_type": "code",
   "execution_count": 234,
   "metadata": {},
   "outputs": [
    {
     "data": {
      "text/plain": [
       "((16104, 4157), (16104,))"
      ]
     },
     "execution_count": 234,
     "metadata": {},
     "output_type": "execute_result"
    }
   ],
   "source": [
    "X_val.shape, y_val.shape"
   ]
  },
  {
   "cell_type": "code",
   "execution_count": 235,
   "metadata": {},
   "outputs": [
    {
     "data": {
      "text/plain": [
       "satisfactory    24425\n",
       "deficient       10020\n",
       "outstanding      3131\n",
       "Name: BankGrade, dtype: int64"
      ]
     },
     "execution_count": 235,
     "metadata": {},
     "output_type": "execute_result"
    }
   ],
   "source": [
    "y_train.value_counts()"
   ]
  },
  {
   "cell_type": "code",
   "execution_count": 236,
   "metadata": {},
   "outputs": [
    {
     "data": {
      "text/plain": [
       "satisfactory    10456\n",
       "deficient        4284\n",
       "outstanding      1364\n",
       "Name: BankGrade, dtype: int64"
      ]
     },
     "execution_count": 236,
     "metadata": {},
     "output_type": "execute_result"
    }
   ],
   "source": [
    "y_val.value_counts()"
   ]
  },
  {
   "cell_type": "code",
   "execution_count": null,
   "metadata": {},
   "outputs": [],
   "source": [
    "##### implementing Naive Bayes"
   ]
  },
  {
   "cell_type": "code",
   "execution_count": 341,
   "metadata": {},
   "outputs": [],
   "source": [
    "from sklearn.naive_bayes import MultinomialNB\n",
    "from sklearn.metrics import confusion_matrix"
   ]
  },
  {
   "cell_type": "code",
   "execution_count": 342,
   "metadata": {},
   "outputs": [
    {
     "data": {
      "text/plain": [
       "MultinomialNB(alpha=1.0, class_prior=None, fit_prior=True)"
      ]
     },
     "execution_count": 342,
     "metadata": {},
     "output_type": "execute_result"
    }
   ],
   "source": [
    "clf_train = MultinomialNB()\n",
    "\n",
    "clf_train.fit(X_train, y_train)"
   ]
  },
  {
   "cell_type": "code",
   "execution_count": 338,
   "metadata": {},
   "outputs": [],
   "source": [
    "pred = clf_train.predict(X_val)\n",
    "\n",
    "prediction = confusion_matrix(y_val, pred)"
   ]
  },
  {
   "cell_type": "code",
   "execution_count": 339,
   "metadata": {},
   "outputs": [
    {
     "data": {
      "text/plain": [
       "array([[1922,    0, 2362],\n",
       "       [   8,  321, 1035],\n",
       "       [ 944,    2, 9510]], dtype=int64)"
      ]
     },
     "execution_count": 339,
     "metadata": {},
     "output_type": "execute_result"
    }
   ],
   "source": [
    "prediction"
   ]
  },
  {
   "cell_type": "code",
   "execution_count": 340,
   "metadata": {},
   "outputs": [
    {
     "name": "stdout",
     "output_type": "stream",
     "text": [
      "0.7298186785891704\n"
     ]
    }
   ],
   "source": [
    "from sklearn.metrics import accuracy_score\n",
    "acc = accuracy_score(y_val, pred)\n",
    "print(acc)"
   ]
  },
  {
   "cell_type": "code",
   "execution_count": null,
   "metadata": {},
   "outputs": [],
   "source": [
    "##### prediction on test data"
   ]
  },
  {
   "cell_type": "code",
   "execution_count": 344,
   "metadata": {},
   "outputs": [],
   "source": [
    "### loading test data\n",
    "gr_test = pd.read_csv(\"GrievancesData_Test.csv\")\n",
    "sample_test=pd.read_csv(\"Test.csv\")"
   ]
  },
  {
   "cell_type": "code",
   "execution_count": 356,
   "metadata": {},
   "outputs": [],
   "source": [
    "test_bankid1=gr_test['BankID'].tolist()"
   ]
  },
  {
   "cell_type": "code",
   "execution_count": 357,
   "metadata": {},
   "outputs": [
    {
     "data": {
      "text/plain": [
       "27954"
      ]
     },
     "execution_count": 357,
     "metadata": {},
     "output_type": "execute_result"
    }
   ],
   "source": [
    "len(test_bankid1)"
   ]
  },
  {
   "cell_type": "code",
   "execution_count": 346,
   "metadata": {},
   "outputs": [],
   "source": [
    "#test_bankid=list(set(test_bankid1))"
   ]
  },
  {
   "cell_type": "code",
   "execution_count": 343,
   "metadata": {},
   "outputs": [],
   "source": [
    "# preprocess test data \n",
    "gr_test['GrievanceDescription'] = gr_test['GrievanceDescription'].apply(lambda x: text_preprocessing(x))"
   ]
  },
  {
   "cell_type": "code",
   "execution_count": 347,
   "metadata": {},
   "outputs": [],
   "source": [
    "# encode document\n",
    "test_vector = vectorizer.transform(gr_test['GrievanceDescription'])"
   ]
  },
  {
   "cell_type": "code",
   "execution_count": 348,
   "metadata": {},
   "outputs": [],
   "source": [
    "test_Dense_mat = test_vector.todense()"
   ]
  },
  {
   "cell_type": "code",
   "execution_count": 350,
   "metadata": {},
   "outputs": [],
   "source": [
    "pred_test = clf_train.predict(test_Dense_mat)"
   ]
  },
  {
   "cell_type": "code",
   "execution_count": 360,
   "metadata": {},
   "outputs": [],
   "source": [
    "predicted=pd.DataFrame(pred_test,columns=['BankGrade'])"
   ]
  },
  {
   "cell_type": "code",
   "execution_count": 361,
   "metadata": {},
   "outputs": [],
   "source": [
    "grade=predicted['BankGrade'].tolist()"
   ]
  },
  {
   "cell_type": "code",
   "execution_count": 362,
   "metadata": {},
   "outputs": [
    {
     "data": {
      "text/plain": [
       "27954"
      ]
     },
     "execution_count": 362,
     "metadata": {},
     "output_type": "execute_result"
    }
   ],
   "source": [
    "len(grade)"
   ]
  },
  {
   "cell_type": "code",
   "execution_count": 363,
   "metadata": {},
   "outputs": [],
   "source": [
    "sub=pd.DataFrame({'BankGrade' :grade,'BankID' :test_bankid1},index=None,columns=['BankID', 'BankGrade'])"
   ]
  },
  {
   "cell_type": "code",
   "execution_count": 364,
   "metadata": {},
   "outputs": [],
   "source": [
    "data=sub.groupby('BankID',as_index=False)"
   ]
  },
  {
   "cell_type": "code",
   "execution_count": 365,
   "metadata": {},
   "outputs": [],
   "source": [
    "a=pd.DataFrame(data.first())"
   ]
  },
  {
   "cell_type": "code",
   "execution_count": 373,
   "metadata": {},
   "outputs": [
    {
     "data": {
      "text/html": [
       "<div>\n",
       "<style scoped>\n",
       "    .dataframe tbody tr th:only-of-type {\n",
       "        vertical-align: middle;\n",
       "    }\n",
       "\n",
       "    .dataframe tbody tr th {\n",
       "        vertical-align: top;\n",
       "    }\n",
       "\n",
       "    .dataframe thead th {\n",
       "        text-align: right;\n",
       "    }\n",
       "</style>\n",
       "<table border=\"1\" class=\"dataframe\">\n",
       "  <thead>\n",
       "    <tr style=\"text-align: right;\">\n",
       "      <th></th>\n",
       "      <th>BankID</th>\n",
       "      <th>BankGrade</th>\n",
       "    </tr>\n",
       "  </thead>\n",
       "  <tbody>\n",
       "    <tr>\n",
       "      <th>0</th>\n",
       "      <td>Bank5246</td>\n",
       "      <td>deficient</td>\n",
       "    </tr>\n",
       "    <tr>\n",
       "      <th>1</th>\n",
       "      <td>Bank5259</td>\n",
       "      <td>deficient</td>\n",
       "    </tr>\n",
       "    <tr>\n",
       "      <th>2</th>\n",
       "      <td>Bank5271</td>\n",
       "      <td>satisfactory</td>\n",
       "    </tr>\n",
       "    <tr>\n",
       "      <th>3</th>\n",
       "      <td>Bank5272</td>\n",
       "      <td>satisfactory</td>\n",
       "    </tr>\n",
       "    <tr>\n",
       "      <th>4</th>\n",
       "      <td>Bank5278</td>\n",
       "      <td>satisfactory</td>\n",
       "    </tr>\n",
       "    <tr>\n",
       "      <th>5</th>\n",
       "      <td>Bank5284</td>\n",
       "      <td>satisfactory</td>\n",
       "    </tr>\n",
       "    <tr>\n",
       "      <th>6</th>\n",
       "      <td>Bank5299</td>\n",
       "      <td>satisfactory</td>\n",
       "    </tr>\n",
       "    <tr>\n",
       "      <th>7</th>\n",
       "      <td>Bank5310</td>\n",
       "      <td>satisfactory</td>\n",
       "    </tr>\n",
       "    <tr>\n",
       "      <th>8</th>\n",
       "      <td>Bank5312</td>\n",
       "      <td>satisfactory</td>\n",
       "    </tr>\n",
       "    <tr>\n",
       "      <th>9</th>\n",
       "      <td>Bank5316</td>\n",
       "      <td>satisfactory</td>\n",
       "    </tr>\n",
       "    <tr>\n",
       "      <th>10</th>\n",
       "      <td>Bank5318</td>\n",
       "      <td>satisfactory</td>\n",
       "    </tr>\n",
       "    <tr>\n",
       "      <th>11</th>\n",
       "      <td>Bank5322</td>\n",
       "      <td>satisfactory</td>\n",
       "    </tr>\n",
       "    <tr>\n",
       "      <th>12</th>\n",
       "      <td>Bank5334</td>\n",
       "      <td>satisfactory</td>\n",
       "    </tr>\n",
       "    <tr>\n",
       "      <th>13</th>\n",
       "      <td>Bank5372</td>\n",
       "      <td>satisfactory</td>\n",
       "    </tr>\n",
       "    <tr>\n",
       "      <th>14</th>\n",
       "      <td>Bank5373</td>\n",
       "      <td>satisfactory</td>\n",
       "    </tr>\n",
       "    <tr>\n",
       "      <th>15</th>\n",
       "      <td>Bank5374</td>\n",
       "      <td>satisfactory</td>\n",
       "    </tr>\n",
       "    <tr>\n",
       "      <th>16</th>\n",
       "      <td>Bank5391</td>\n",
       "      <td>satisfactory</td>\n",
       "    </tr>\n",
       "    <tr>\n",
       "      <th>17</th>\n",
       "      <td>Bank5393</td>\n",
       "      <td>satisfactory</td>\n",
       "    </tr>\n",
       "    <tr>\n",
       "      <th>18</th>\n",
       "      <td>Bank5403</td>\n",
       "      <td>satisfactory</td>\n",
       "    </tr>\n",
       "    <tr>\n",
       "      <th>19</th>\n",
       "      <td>Bank5416</td>\n",
       "      <td>satisfactory</td>\n",
       "    </tr>\n",
       "    <tr>\n",
       "      <th>20</th>\n",
       "      <td>Bank5424</td>\n",
       "      <td>satisfactory</td>\n",
       "    </tr>\n",
       "    <tr>\n",
       "      <th>21</th>\n",
       "      <td>Bank5437</td>\n",
       "      <td>satisfactory</td>\n",
       "    </tr>\n",
       "  </tbody>\n",
       "</table>\n",
       "</div>"
      ],
      "text/plain": [
       "      BankID     BankGrade\n",
       "0   Bank5246     deficient\n",
       "1   Bank5259     deficient\n",
       "2   Bank5271  satisfactory\n",
       "3   Bank5272  satisfactory\n",
       "4   Bank5278  satisfactory\n",
       "5   Bank5284  satisfactory\n",
       "6   Bank5299  satisfactory\n",
       "7   Bank5310  satisfactory\n",
       "8   Bank5312  satisfactory\n",
       "9   Bank5316  satisfactory\n",
       "10  Bank5318  satisfactory\n",
       "11  Bank5322  satisfactory\n",
       "12  Bank5334  satisfactory\n",
       "13  Bank5372  satisfactory\n",
       "14  Bank5373  satisfactory\n",
       "15  Bank5374  satisfactory\n",
       "16  Bank5391  satisfactory\n",
       "17  Bank5393  satisfactory\n",
       "18  Bank5403  satisfactory\n",
       "19  Bank5416  satisfactory\n",
       "20  Bank5424  satisfactory\n",
       "21  Bank5437  satisfactory"
      ]
     },
     "execution_count": 373,
     "metadata": {},
     "output_type": "execute_result"
    }
   ],
   "source": [
    "a"
   ]
  },
  {
   "cell_type": "code",
   "execution_count": 366,
   "metadata": {},
   "outputs": [],
   "source": [
    "a.to_csv('submission_2.csv',index=False)"
   ]
  },
  {
   "cell_type": "code",
   "execution_count": 388,
   "metadata": {},
   "outputs": [
    {
     "data": {
      "text/html": [
       "<div>\n",
       "<style scoped>\n",
       "    .dataframe tbody tr th:only-of-type {\n",
       "        vertical-align: middle;\n",
       "    }\n",
       "\n",
       "    .dataframe tbody tr th {\n",
       "        vertical-align: top;\n",
       "    }\n",
       "\n",
       "    .dataframe thead th {\n",
       "        text-align: right;\n",
       "    }\n",
       "</style>\n",
       "<table border=\"1\" class=\"dataframe\">\n",
       "  <thead>\n",
       "    <tr style=\"text-align: right;\">\n",
       "      <th></th>\n",
       "      <th>GrievanceID</th>\n",
       "      <th>BankID</th>\n",
       "      <th>State</th>\n",
       "      <th>DateOfGrievance</th>\n",
       "      <th>Grievance_Category</th>\n",
       "      <th>GrievanceDescription</th>\n",
       "      <th>LineOfBusiness</th>\n",
       "      <th>ResolutionComments</th>\n",
       "      <th>Disputed</th>\n",
       "      <th>DateOfResolution</th>\n",
       "      <th>BankGrade</th>\n",
       "    </tr>\n",
       "  </thead>\n",
       "  <tbody>\n",
       "    <tr>\n",
       "      <th>0</th>\n",
       "      <td>GID512411</td>\n",
       "      <td>Bank5279</td>\n",
       "      <td>State31</td>\n",
       "      <td>2016-01-19</td>\n",
       "      <td>Settlement process and costs</td>\n",
       "      <td>bank research dpt xxxx xxxx xxxx xxxx ca xxxxx...</td>\n",
       "      <td>Mortgage</td>\n",
       "      <td>Closed with explanation</td>\n",
       "      <td>No</td>\n",
       "      <td>2016-01-30</td>\n",
       "      <td>outstanding</td>\n",
       "    </tr>\n",
       "    <tr>\n",
       "      <th>1</th>\n",
       "      <td>GID512415</td>\n",
       "      <td>Bank5279</td>\n",
       "      <td>State53</td>\n",
       "      <td>2016-01-19</td>\n",
       "      <td>Loan servicing, payments, escrow account</td>\n",
       "      <td>mortgage sold bank xxxx bought xxxx xxxx xxxx ...</td>\n",
       "      <td>Mortgage</td>\n",
       "      <td>Closed with explanation</td>\n",
       "      <td>No</td>\n",
       "      <td>2016-01-30</td>\n",
       "      <td>outstanding</td>\n",
       "    </tr>\n",
       "  </tbody>\n",
       "</table>\n",
       "</div>"
      ],
      "text/plain": [
       "  GrievanceID    BankID    State DateOfGrievance  \\\n",
       "0   GID512411  Bank5279  State31      2016-01-19   \n",
       "1   GID512415  Bank5279  State53      2016-01-19   \n",
       "\n",
       "                         Grievance_Category  \\\n",
       "0              Settlement process and costs   \n",
       "1  Loan servicing, payments, escrow account   \n",
       "\n",
       "                                GrievanceDescription LineOfBusiness  \\\n",
       "0  bank research dpt xxxx xxxx xxxx xxxx ca xxxxx...       Mortgage   \n",
       "1  mortgage sold bank xxxx bought xxxx xxxx xxxx ...       Mortgage   \n",
       "\n",
       "        ResolutionComments Disputed DateOfResolution    BankGrade  \n",
       "0  Closed with explanation       No       2016-01-30  outstanding  \n",
       "1  Closed with explanation       No       2016-01-30  outstanding  "
      ]
     },
     "execution_count": 388,
     "metadata": {},
     "output_type": "execute_result"
    }
   ],
   "source": [
    "train.head(2)"
   ]
  }
 ],
 "metadata": {
  "kernelspec": {
   "display_name": "Python 3",
   "language": "python",
   "name": "python3"
  },
  "language_info": {
   "codemirror_mode": {
    "name": "ipython",
    "version": 3
   },
   "file_extension": ".py",
   "mimetype": "text/x-python",
   "name": "python",
   "nbconvert_exporter": "python",
   "pygments_lexer": "ipython3",
   "version": "3.6.5"
  }
 },
 "nbformat": 4,
 "nbformat_minor": 2
}
